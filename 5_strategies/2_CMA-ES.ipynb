{
 "cells": [
  {
   "cell_type": "markdown",
   "metadata": {},
   "source": [
    "<img src=\"../imgs/logo.png\" width=\"20%\" align=\"right\" style=\"margin:0px 20px\">\n",
    "\n",
    "\n",
    "# Evolutionary Computation\n",
    "\n",
    "## 5.2 CMA-ES\n",
    "\n",
    "<a rel=\"license\" href=\"http://creativecommons.org/licenses/by-sa/4.0/\"><img alt=\"Creative Commons License\" align=\"left\" src=\"https://i.creativecommons.org/l/by-sa/4.0/80x15.png\" /></a>&nbsp;| Dennis G. Wilson | <a href=\"https://d9w.github.io/evolution/\">https://d9w.github.io/evolution/</a>"
   ]
  },
  {
   "cell_type": "markdown",
   "metadata": {},
   "source": [
    "# CMA-ES\n",
    "\n",
    "In this section, we'll discuss the Covariance Matrix Adaptation Evolutionary Strategy, or CMA-ES [1, 2]. This is one of the most well-known evolutionary algorithms in general and is a state-of-the-art algorithm for continuous optimization. The strength of this method is that it adapts the distribution it uses to generate the next population based on the current distribution of individuals. In the previous section, we were limited to a Normal distribution with a fixed $\\sigma$. The adaptive distribution of CMA-ES means it will cross search spaces faster and narrow in more exactly on optimal points.\n",
    "\n",
    "[1] Hansen, Nikolaus, and Andreas Ostermeier. \"Adapting arbitrary normal mutation distributions in evolution strategies: The covariance matrix adaptation.\" Proceedings of IEEE international conference on evolutionary computation. IEEE, 1996.\n",
    "\n",
    "[2] Hansen, Nikolaus, and Andreas Ostermeier. \"Completely derandomized self-adaptation in evolution strategies.\" Evolutionary computation 9.2 (2001): 159-195."
   ]
  },
  {
   "cell_type": "markdown",
   "metadata": {},
   "source": [
    "Let's go through a simplified version of the algorithm from [3]. There are improvements to CMA-ES beyond this basic framework, but that's beyond the scope of today. [4] provides a good review of different CMA-ES modifications.\n",
    "\n",
    "[3] Hans-Georg Beyer (2007) Evolution strategies. Scholarpedia, 2(8):1965.\n",
    "\n",
    "[4] Hansen, Nikolaus. \"The CMA evolution strategy: a comparing review.\" Towards a new evolutionary computation. Springer, Berlin, Heidelberg, 2006. 75-102."
   ]
  },
  {
   "cell_type": "markdown",
   "metadata": {},
   "source": [
    "We'll start by creating a random individual $\\mathbf{y}$ which will be our first expert. We also create a diagonal covariance matrix $\\mathbf{C}$."
   ]
  },
  {
   "cell_type": "markdown",
   "metadata": {},
   "source": [
    "$\\mbox{(L1):} \\quad \n",
    "  \\forall l=1, \\ldots, \\lambda : \\;\\;\n",
    "  \\begin{cases}\n",
    "   & \\mathbf{w}_l \n",
    "          \\leftarrow \\sigma \\sqrt{ \\mathbf{C} } \\,\n",
    "          \\mathbf{N}_l(\\mathbf{0}, \\mathbf{1}),\\\\[2mm]\n",
    "   & \\mathbf{y}_l \\leftarrow \\mathbf{y}  + \\mathbf{w}_l, \\\\[2mm]\n",
    "   & F_l \\leftarrow F(\\mathbf{y}_l),\n",
    "  \\end{cases}$"
   ]
  },
  {
   "cell_type": "markdown",
   "metadata": {},
   "source": [
    "In the first step, (L1), $\\lambda$ offspring $\\mathbf{y}_l$ are created by transforming standard normally distributed random vectors using a transformation matrix $\\sqrt{\\mathbf{C}}$ which is given by Cholesky decomposition of the covariance matrix $\\mathbf{C}$ and the global step size factor $\\sigma$. We also evaluate every individual, creating $F$."
   ]
  },
  {
   "cell_type": "markdown",
   "metadata": {},
   "source": [
    "$\\mbox{(L2):} \\quad \n",
    "      \\mathbf{y} \\leftarrow \\mathbf{y} + \\langle \\mathbf{w} \\rangle$"
   ]
  },
  {
   "cell_type": "markdown",
   "metadata": {},
   "source": [
    "In (L2) the best $\\mu$ mutations are recombined forming the recombinant $\\mathbf{y}$ (center of mass individual) for the next generation. "
   ]
  },
  {
   "cell_type": "markdown",
   "metadata": {},
   "source": [
    "$\\mbox{(L3):} \\quad \n",
    "            \\mathbf{s} \\leftarrow \\left(1-\\frac{1}{\\tau}\\right)\\mathbf{s}\n",
    "          + \\sqrt{\\frac{\\mu}{\\tau} \\left(2-\\frac{1}{\\tau}\\right)} \\,\n",
    "            \\frac{\\langle \\mathbf{w} \\rangle}{\\sigma}$"
   ]
  },
  {
   "cell_type": "markdown",
   "metadata": {},
   "source": [
    "Vector $\\langle \\mathbf{w} \\rangle$ combines individuals from two consecutive generations so $\\langle \\mathbf{w} \\rangle/\\sigma$ represents the tendency of evolution in the search space. In (L3), this information is cumulated in the $\\mathbf{s}$ vector, which exponentially decays with the time constant $\\tau$. A good default for this is $\\tau=\\sqrt{n}$."
   ]
  },
  {
   "cell_type": "markdown",
   "metadata": {},
   "source": [
    "$\\mbox{(L4):} \\quad \n",
    "      \\mathbf{C} \\leftarrow \n",
    "      \\left(1-\\frac{1}{\\tau_{\\mathrm{c}}}\\right)\\mathbf{C}\n",
    "              + \\frac{1}{\\tau_{\\mathrm{c}}} \\mathbf{s} \\mathbf{s}^T$"
   ]
  },
  {
   "cell_type": "markdown",
   "metadata": {},
   "source": [
    "In (L4), the direction vector $\\mathbf{s}$ is used to update the covariance matrix $\\mathbf{C}$ with time constant $\\tau_{\\mathrm{c}} \\propto n^2$"
   ]
  },
  {
   "cell_type": "markdown",
   "metadata": {},
   "source": [
    "$\\mbox{(L5):} \\quad  \n",
    "       \\mathbf{s}_\\sigma\n",
    "       \\leftarrow \\left(1-\\frac{1}{\\tau_\\sigma}\\right) \\mathbf{s}_\\sigma\n",
    "                  + \\sqrt{\\frac{\\mu}{\\tau_\\sigma}\n",
    "                    \\left(2-\\frac{1}{\\tau_\\sigma}\\right)} \\,\n",
    "                      \\langle \\mathbf{N}(\\mathbf{0}, \\mathbf{1}) \\rangle$"
   ]
  },
  {
   "cell_type": "markdown",
   "metadata": {},
   "source": [
    "$\\mbox{(L6):} \\quad  \n",
    "      \\sigma \\leftarrow \\sigma\\exp\\left[\n",
    "                        \\frac{\\| \\mathbf{s}_{\\sigma} \\|^2 - n}\n",
    "                                   {2 n \\sqrt{n} }\n",
    "                                        \\right]$"
   ]
  },
  {
   "cell_type": "markdown",
   "metadata": {},
   "source": [
    "The distribution standard deviation $\\sigma$ is then calculated in (L5) and (L6) using the cumulated step size adaptation (CSA) technique with time constant $\\tau_\\sigma = \\sqrt{n}$ (initially $\\mathbf{s}_\\sigma = \\mathbf{0}$). $\\langle \\mathbf{N}(\\mathbf{0}, \\mathbf{1}) \\rangle$ is the distribution we calculated in (L1). "
   ]
  },
  {
   "cell_type": "markdown",
   "metadata": {},
   "source": [
    "So instead of simply using a Normal distribution to create the next generation, CMA-ES transforms a normal distribution by the covariance matrix $\\mathbf{C}$. It also moves at self-adjusting $\\sigma$. This makes its movement around the search space much more effective, as it is informed by the shape of the search space given through the fitness values $F$."
   ]
  },
  {
   "cell_type": "markdown",
   "metadata": {},
   "source": [
    "Let's see an example of that."
   ]
  },
  {
   "cell_type": "code",
   "execution_count": 1,
   "metadata": {},
   "outputs": [],
   "source": [
    "using Random\n",
    "using LinearAlgebra\n",
    "using Statistics\n",
    "using Plots"
   ]
  },
  {
   "cell_type": "code",
   "execution_count": 2,
   "metadata": {},
   "outputs": [
    {
     "data": {
      "text/plain": [
       "sphere (generic function with 1 method)"
      ]
     },
     "execution_count": 2,
     "metadata": {},
     "output_type": "execute_result"
    }
   ],
   "source": [
    "solution = [3.5, -0.2]\n",
    "sphere(x::Array{Float64}) = sum((x .- solution).^2)\n",
    "himmelblau(x::Array{Float64}) = (x[1]^2 + x[2] - 11)^2 + (x[1] + x[2]^2 - 7)^2\n",
    "styblinski_tang(x::Array{Float64}) = sum(x.^4 .- 16 .* x.^2 .+ 5 .* x) / 2.0\n",
    "rastrigin(x::Array{Float64}) = 10.0 * length(x) .+ sum((x .- solution).^2 .- 10 .* cos.(2*pi.*(x .- solution)))\n",
    "objective = sphere"
   ]
  },
  {
   "cell_type": "markdown",
   "metadata": {},
   "source": [
    "As with last time, we'll optimize over 2 continuous variables. We'll set default values of the time constants based on $N$. These are recommended values for CMA-ES [5]\n",
    "\n",
    "[5] Hansen, Nikolaus, Sibylle D. Müller, and Petros Koumoutsakos. \"Reducing the time complexity of the derandomized evolution strategy with covariance matrix adaptation (CMA-ES).\" Evolutionary computation 11.1 (2003): 1-18."
   ]
  },
  {
   "cell_type": "code",
   "execution_count": 3,
   "metadata": {},
   "outputs": [],
   "source": [
    "N = 2\n",
    "μ = 5\n",
    "λ = 10\n",
    "τ = sqrt(N)\n",
    "τ_c = N^2\n",
    "τ_σ = sqrt(N);"
   ]
  },
  {
   "cell_type": "markdown",
   "metadata": {},
   "source": [
    "Now let's make our random expert and create placeholder fitness and offspring vectors."
   ]
  },
  {
   "cell_type": "code",
   "execution_count": 4,
   "metadata": {},
   "outputs": [],
   "source": [
    "y = randn(N)\n",
    "offspring = Array{Array{Float64}}(undef, λ)\n",
    "F = Inf .* ones(λ);"
   ]
  },
  {
   "cell_type": "markdown",
   "metadata": {},
   "source": [
    "Finally, we need to initialize $\\mathbf{C}, \\mathbf{N}, \\mathbf{w}, \\mathbf{s}, \\mathbf{s_\\sigma},$ and $\\mathbf{\\sigma}$."
   ]
  },
  {
   "cell_type": "code",
   "execution_count": 5,
   "metadata": {},
   "outputs": [],
   "source": [
    "C = Diagonal{Float64}(I, N)\n",
    "W = zeros(N, λ)\n",
    "s = zeros(N)\n",
    "s_σ = zeros(N)\n",
    "σ = 1.0\n",
    "E = zeros(N, λ);"
   ]
  },
  {
   "cell_type": "markdown",
   "metadata": {},
   "source": [
    "Step 1: We calculate the offspring distribution $\\mathbf{w}$ then center it at the center-of-mass individual $\\mathbf{y}$."
   ]
  },
  {
   "cell_type": "markdown",
   "metadata": {},
   "source": [
    "$\\mbox{(L1):} \\quad \n",
    "  \\forall l=1, \\ldots, \\lambda : \\;\\;\n",
    "  \\begin{cases}\n",
    "   & \\mathbf{w}_l \n",
    "          \\leftarrow \\sigma \\sqrt{ \\mathbf{C} } \\,\n",
    "          \\mathbf{N}_l(\\mathbf{0}, \\mathbf{1}),\\\\[2mm]\n",
    "   & \\mathbf{y}_l \\leftarrow \\mathbf{y}  + \\mathbf{w}_l, \\\\[2mm]\n",
    "   & F_l \\leftarrow F(\\mathbf{y}_l),\n",
    "  \\end{cases}$"
   ]
  },
  {
   "cell_type": "code",
   "execution_count": 6,
   "metadata": {},
   "outputs": [
    {
     "data": {
      "text/plain": [
       "2×2 Diagonal{Float64,Array{Float64,1}}:\n",
       " 1.0   ⋅ \n",
       "  ⋅   1.0"
      ]
     },
     "execution_count": 6,
     "metadata": {},
     "output_type": "execute_result"
    }
   ],
   "source": [
    "sqrt_c = cholesky((C + C') / 2.0).U"
   ]
  },
  {
   "cell_type": "markdown",
   "metadata": {},
   "source": [
    "Note that our $\\mathbf{C}$ covariance matrix is currently 1, so this first distribution will just be a normal distribution without any transformation. We will then evaluate every individual."
   ]
  },
  {
   "cell_type": "code",
   "execution_count": 8,
   "metadata": {},
   "outputs": [],
   "source": [
    "for i in 1:λ\n",
    "    E[:,i] = randn(N)\n",
    "    W[:,i] = σ * (sqrt_c * E[:,i])\n",
    "    offspring[i] = y + W[:,i]\n",
    "    F[i] = objective(offspring[i])\n",
    "end"
   ]
  },
  {
   "cell_type": "markdown",
   "metadata": {},
   "source": [
    "Now that we have evaluated the individuals, we will select a subset of them to inform the next generation. We'll simply use a truncation selection, taking the top $\\mu$ individuals."
   ]
  },
  {
   "cell_type": "code",
   "execution_count": 10,
   "metadata": {},
   "outputs": [
    {
     "data": {
      "text/plain": [
       "5-element Array{Int64,1}:\n",
       "  4\n",
       "  1\n",
       "  8\n",
       " 10\n",
       "  3"
      ]
     },
     "execution_count": 10,
     "metadata": {},
     "output_type": "execute_result"
    }
   ],
   "source": [
    "idx = sortperm(F)[1:μ]"
   ]
  },
  {
   "cell_type": "markdown",
   "metadata": {},
   "source": [
    "Now step 2. We update $\\mathbf{y}$ using the top $\\mu$ individuals in $\\mathbf{w}$"
   ]
  },
  {
   "cell_type": "markdown",
   "metadata": {},
   "source": [
    "$\\mbox{(L2):} \\quad \n",
    "      \\mathbf{y} \\leftarrow \\mathbf{y} + \\langle \\mathbf{w} \\rangle$"
   ]
  },
  {
   "cell_type": "code",
   "execution_count": 11,
   "metadata": {},
   "outputs": [
    {
     "data": {
      "text/plain": [
       "2-element Array{Float64,1}:\n",
       "  1.650638979731192\n",
       " -0.026184328413483803"
      ]
     },
     "execution_count": 11,
     "metadata": {},
     "output_type": "execute_result"
    }
   ],
   "source": [
    "w = vec(mean(W[:,idx], dims=2))\n",
    "y += w"
   ]
  },
  {
   "cell_type": "markdown",
   "metadata": {},
   "source": [
    "In step 3, we update the direction vector $\\mathbf{s}$."
   ]
  },
  {
   "cell_type": "markdown",
   "metadata": {},
   "source": [
    "$\\mbox{(L3):} \\quad \n",
    "            \\mathbf{s} \\leftarrow \\left(1-\\frac{1}{\\tau}\\right)\\mathbf{s}\n",
    "          + \\sqrt{\\frac{\\mu}{\\tau} \\left(2-\\frac{1}{\\tau}\\right)} \\,\n",
    "            \\frac{\\langle \\mathbf{w} \\rangle}{\\sigma}$"
   ]
  },
  {
   "cell_type": "code",
   "execution_count": 12,
   "metadata": {},
   "outputs": [
    {
     "data": {
      "text/plain": [
       "2-element Array{Float64,1}:\n",
       "  3.375920322635061\n",
       " -0.05903261532034056"
      ]
     },
     "execution_count": 12,
     "metadata": {},
     "output_type": "execute_result"
    }
   ],
   "source": [
    "s = (1.0 - 1.0/τ)*s + (sqrt(μ/τ * (2.0 - 1.0/τ))/σ)*w"
   ]
  },
  {
   "cell_type": "markdown",
   "metadata": {},
   "source": [
    "Next we update our covariance matrix $\\mathbf{C}$. Note that it will no longer be a diagonal matrix: our next update will use a transformed distribution to generate the population."
   ]
  },
  {
   "cell_type": "markdown",
   "metadata": {},
   "source": [
    "$\\mbox{(L4):} \\quad \n",
    "      \\mathbf{C} \\leftarrow \n",
    "      \\left(1-\\frac{1}{\\tau_{\\mathrm{c}}}\\right)\\mathbf{C}\n",
    "              + \\frac{1}{\\tau_{\\mathrm{c}}} \\mathbf{s} \\mathbf{s}^T$"
   ]
  },
  {
   "cell_type": "code",
   "execution_count": 13,
   "metadata": {},
   "outputs": [
    {
     "data": {
      "text/plain": [
       "2×2 Array{Float64,2}:\n",
       "  3.59921    -0.0498224\n",
       " -0.0498224   0.750871"
      ]
     },
     "execution_count": 13,
     "metadata": {},
     "output_type": "execute_result"
    }
   ],
   "source": [
    "C = (1.0 - 1.0/τ_c).*C + (s./τ_c)*s'"
   ]
  },
  {
   "cell_type": "markdown",
   "metadata": {},
   "source": [
    "Finally, we update the $\\sigma$, which is the standard deviation of the distribution we generate in the first step. Note that its initial value was `1.0`."
   ]
  },
  {
   "cell_type": "markdown",
   "metadata": {},
   "source": [
    "$\\mbox{(L5):} \\quad  \n",
    "       \\mathbf{s}_\\sigma\n",
    "       \\leftarrow \\left(1-\\frac{1}{\\tau_\\sigma}\\right) \\mathbf{s}_\\sigma\n",
    "                  + \\sqrt{\\frac{\\mu}{\\tau_\\sigma}\n",
    "                    \\left(2-\\frac{1}{\\tau_\\sigma}\\right)} \\,\n",
    "                      \\langle \\mathbf{N}(\\mathbf{0}, \\mathbf{1}) \\rangle$"
   ]
  },
  {
   "cell_type": "markdown",
   "metadata": {},
   "source": [
    "$\\mbox{(L6):} \\quad  \n",
    "      \\sigma \\leftarrow \\sigma\\exp\\left[\n",
    "                        \\frac{\\| \\mathbf{s}_{\\sigma} \\|^2 - n}\n",
    "                                   {2 n \\sqrt{n} }\n",
    "                                        \\right]$"
   ]
  },
  {
   "cell_type": "code",
   "execution_count": 14,
   "metadata": {},
   "outputs": [
    {
     "data": {
      "text/plain": [
       "5.268564910477613"
      ]
     },
     "execution_count": 14,
     "metadata": {},
     "output_type": "execute_result"
    }
   ],
   "source": [
    "ɛ = vec(mean(E[:,idx], dims=2))\n",
    "s_σ = (1.0 - 1.0/τ_σ)*s_σ + sqrt(μ/τ_σ*(2.0 - 1.0/τ_σ))*ɛ\n",
    "σ = σ*exp(((s_σ'*s_σ)[1] - N)/(2*N*sqrt(N)))"
   ]
  },
  {
   "cell_type": "markdown",
   "metadata": {},
   "source": [
    "That's a lot! Let's put it all together in an object and see how it runs over multiple iterations."
   ]
  },
  {
   "cell_type": "code",
   "execution_count": 15,
   "metadata": {},
   "outputs": [],
   "source": [
    "mutable struct CMAES\n",
    "    N::Int\n",
    "    μ::Int\n",
    "    λ::Int\n",
    "    τ::Float64\n",
    "    τ_c::Float64\n",
    "    τ_σ::Float64\n",
    "    population::Array{Array{Float64}}\n",
    "    offspring::Array{Array{Float64}}\n",
    "    F_μ::Array{Float64}\n",
    "    F_λ::Array{Float64}\n",
    "    C::Array{Float64}\n",
    "    s::Array{Float64}\n",
    "    s_σ::Array{Float64}\n",
    "    σ::Float64\n",
    "    E::Array{Float64}\n",
    "    W::Array{Float64}\n",
    "    x::Array{Float64}\n",
    "end"
   ]
  },
  {
   "cell_type": "code",
   "execution_count": 16,
   "metadata": {},
   "outputs": [
    {
     "data": {
      "text/plain": [
       "CMAES"
      ]
     },
     "execution_count": 16,
     "metadata": {},
     "output_type": "execute_result"
    }
   ],
   "source": [
    "function CMAES(;N=2, μ=1, λ=10, τ=sqrt(N), τ_c=N^2, τ_σ=sqrt(N))\n",
    "    x = randn(N)\n",
    "    population = fill(x, µ)\n",
    "    offspring = Array{Array{Float64}}(undef, λ)\n",
    "    F_µ = Inf .* ones(µ)\n",
    "    F_λ = Inf .* ones(λ)\n",
    "    C = Array(Diagonal{Float64}(I, N))\n",
    "    s = zeros(N)\n",
    "    s_σ = zeros(N)\n",
    "    σ = 1.0\n",
    "    E = zeros(N, λ)\n",
    "    W = zeros(N, λ);\n",
    "    CMAES(N, μ, λ, τ, τ_c, τ_σ, population, offspring, F_µ, F_λ, C, s, s_σ, σ, E, W, x)\n",
    "end"
   ]
  },
  {
   "cell_type": "code",
   "execution_count": 17,
   "metadata": {
    "scrolled": true
   },
   "outputs": [
    {
     "data": {
      "text/plain": [
       "CMAES(2, 1, 10, 1.4142135623730951, 4.0, 1.4142135623730951, Array{Float64,N} where N[[0.38842251967866576, 0.612944740874843]], Array{Float64,N} where N[#undef, #undef, #undef, #undef, #undef, #undef, #undef, #undef, #undef, #undef], [Inf], [Inf, Inf, Inf, Inf, Inf, Inf, Inf, Inf, Inf, Inf], [1.0 0.0; 0.0 1.0], [0.0, 0.0], [0.0, 0.0], 1.0, [0.0 0.0 … 0.0 0.0; 0.0 0.0 … 0.0 0.0], [0.0 0.0 … 0.0 0.0; 0.0 0.0 … 0.0 0.0], [0.38842251967866576, 0.612944740874843])"
      ]
     },
     "execution_count": 17,
     "metadata": {},
     "output_type": "execute_result"
    }
   ],
   "source": [
    "c = CMAES()"
   ]
  },
  {
   "cell_type": "code",
   "execution_count": 18,
   "metadata": {},
   "outputs": [
    {
     "data": {
      "text/plain": [
       "step! (generic function with 1 method)"
      ]
     },
     "execution_count": 18,
     "metadata": {},
     "output_type": "execute_result"
    }
   ],
   "source": [
    "function step!(c::CMAES; obj=objective, visualize=false, anim=Nothing)\n",
    "    # L1\n",
    "    sqrt_c = cholesky((c.C + c.C') / 2.0).U\n",
    "    for i in 1:c.λ\n",
    "        c.E[:,i] = randn(c.N)\n",
    "        c.W[:,i] = c.σ * (sqrt_c * c.E[:,i])\n",
    "        c.offspring[i] = c.x + c.W[:,i]\n",
    "        c.F_λ[i] = obj(c.offspring[i])\n",
    "    end    \n",
    "    # Select new parent population\n",
    "    idx = sortperm(c.F_λ)[1:c.μ]\n",
    "    for i in 1:c.μ\n",
    "        c.population[i] = c.offspring[idx[i]]\n",
    "        c.F_μ[i] = c.F_λ[idx[i]]\n",
    "    end    \n",
    "    # L2\n",
    "    w = vec(mean(c.W[:,idx], dims=2))\n",
    "    c.x += w    \n",
    "    # L3\n",
    "    c.s = (1.0 - 1.0/c.τ)*c.s + (sqrt(c.μ/c.τ * (2.0 - 1.0/c.τ))/c.σ)*w   \n",
    "    # L4\n",
    "    c.C = (1.0 - 1.0/c.τ_c).*c.C + (c.s./c.τ_c)*c.s'    \n",
    "    # L5\n",
    "    ɛ = vec(mean(c.E[:,idx], dims=2))\n",
    "    c.s_σ = (1.0 - 1.0/c.τ_σ)*c.s_σ + sqrt(c.μ/c.τ_σ*(2.0 - 1.0/c.τ_σ))*ɛ    \n",
    "    # L6\n",
    "    c.σ = c.σ*exp(((c.s_σ'*c.s_σ)[1] - c.N)/(2*c.N*sqrt(c.N)))\n",
    "    if visualize\n",
    "        plot(xs, ys, fz, st=:contour)\n",
    "        scatter!([c.offspring[i][1] for i in 1:λ], [c.offspring[i][2] for i in 1:λ], \n",
    "            xlims=(-5, 5), ylims=(-5, 5), legend=:none)\n",
    "        scatter!([c.x[1]], [c.x[2]], color=:black, marker=:rect,\n",
    "            xlims=(-5, 5), ylims=(-5, 5), legend=:none)\n",
    "        frame(anim)\n",
    "    end\n",
    "    c\n",
    "end"
   ]
  },
  {
   "cell_type": "code",
   "execution_count": 27,
   "metadata": {},
   "outputs": [
    {
     "data": {
      "text/plain": [
       "plot_obj (generic function with 1 method)"
      ]
     },
     "execution_count": 27,
     "metadata": {},
     "output_type": "execute_result"
    }
   ],
   "source": [
    "\n",
    "\n",
    "\n",
    "function plot_obj()\n",
    "\n",
    "    \n",
    "\n",
    "    c = CMAES()\n",
    "    println(\"x initial: \", c.x)\n",
    "    anim = Animation()\n",
    "    for i in 1:100\n",
    "        v = mod(i, 1) == 0\n",
    "        step!(c, visualize=v, anim=anim)\n",
    "    end\n",
    "    println(\"x final: \", c.x)\n",
    "    gif(anim)\n",
    "end"
   ]
  },
  {
   "cell_type": "code",
   "execution_count": 29,
   "metadata": {},
   "outputs": [
    {
     "name": "stdout",
     "output_type": "stream",
     "text": [
      "[3.5, -0.2]\n",
      "x initial: [-0.8533226639178911, 0.4602681480653522]\n",
      "x final: [-2.805118086952745, 3.131312518250573]\n"
     ]
    },
    {
     "name": "stderr",
     "output_type": "stream",
     "text": [
      "┌ Info: Saved animation to \n",
      "│   fn = C:\\Users\\Maxence\\Documents\\Algoevol\\evolution\\5_strategies\\tmp.gif\n",
      "└ @ Plots C:\\Users\\Maxence\\.julia\\packages\\Plots\\ZRCUN\\src\\animation.jl:102\n"
     ]
    },
    {
     "data": {
      "text/html": [
       "<img src=\"data:image/gif;base64,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\" />"
      ],
      "text/plain": [
       "Plots.AnimatedGif(\"C:\\\\Users\\\\Maxence\\\\Documents\\\\Algoevol\\\\evolution\\\\5_strategies\\\\tmp.gif\")"
      ]
     },
     "execution_count": 29,
     "metadata": {},
     "output_type": "execute_result"
    }
   ],
   "source": [
    "xs = -5.0:0.1:5.0\n",
    "ys = -5.0:0.1:5.0\n",
    "objective = himmelblau # sphere, himmelblau, styblinski_tang, rastrigin\n",
    "fz(x, y) = objective([x, y])\n",
    "println(solution) # optimal for sphere and rastrigin\n",
    "plot_obj()"
   ]
  },
  {
   "cell_type": "markdown",
   "metadata": {},
   "source": [
    "<div class=\"alert alert-success\">\n",
    "    <b>Exercise</b>\n",
    "    <br/>\n",
    "    Modify the parent population size and child population of the problem. Can you get CMA-ES to reliably converge on the Rastrigin function? What about for higer dimensions of $n$? Report your $\\mu$ and $\\lambda$ values in the class chat.\n",
    "</div>    "
   ]
  },
  {
   "cell_type": "code",
   "execution_count": 46,
   "metadata": {},
   "outputs": [
    {
     "data": {
      "text/plain": [
       "plot_obj (generic function with 1 method)"
      ]
     },
     "execution_count": 46,
     "metadata": {},
     "output_type": "execute_result"
    }
   ],
   "source": [
    "function CMAES(;N=2, μ=2, λ=30, τ=sqrt(N), τ_c=N^2, τ_σ=sqrt(N))\n",
    "    x = randn(N)\n",
    "    population = fill(x, µ)\n",
    "    offspring = Array{Array{Float64}}(undef, λ)\n",
    "    F_µ = Inf .* ones(µ)\n",
    "    F_λ = Inf .* ones(λ)\n",
    "    C = Array(Diagonal{Float64}(I, N))\n",
    "    s = zeros(N)\n",
    "    s_σ = zeros(N)\n",
    "    σ = 1.0\n",
    "    E = zeros(N, λ)\n",
    "    W = zeros(N, λ);\n",
    "    CMAES(N, μ, λ, τ, τ_c, τ_σ, population, offspring, F_µ, F_λ, C, s, s_σ, σ, E, W, x)\n",
    "end\n",
    "\n",
    "c = CMAES()\n",
    "\n",
    "\n",
    "\n",
    "\n",
    "function plot_obj()\n",
    "\n",
    "    \n",
    "\n",
    "    c = CMAES()\n",
    "    println(\"x initial: \", c.x)\n",
    "    anim = Animation()\n",
    "    for i in 1:100\n",
    "        v = mod(i, 1) == 0\n",
    "        step!(c, visualize=v, anim=anim)\n",
    "    end\n",
    "    println(\"x final: \", c.x)\n",
    "    gif(anim)\n",
    "end"
   ]
  },
  {
   "cell_type": "code",
   "execution_count": 47,
   "metadata": {},
   "outputs": [
    {
     "name": "stdout",
     "output_type": "stream",
     "text": [
      "[3.5, -0.2]\n",
      "x initial: [0.7494030654482001, 0.6693087501083453]\n",
      "x final: [3.0, 2.0]\n"
     ]
    },
    {
     "name": "stderr",
     "output_type": "stream",
     "text": [
      "┌ Info: Saved animation to \n",
      "│   fn = C:\\Users\\Maxence\\Documents\\Algoevol\\evolution\\5_strategies\\tmp.gif\n",
      "└ @ Plots C:\\Users\\Maxence\\.julia\\packages\\Plots\\ZRCUN\\src\\animation.jl:102\n"
     ]
    },
    {
     "data": {
      "text/html": [
       "<img src=\"data:image/gif;base64,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\" />"
      ],
      "text/plain": [
       "Plots.AnimatedGif(\"C:\\\\Users\\\\Maxence\\\\Documents\\\\Algoevol\\\\evolution\\\\5_strategies\\\\tmp.gif\")"
      ]
     },
     "execution_count": 47,
     "metadata": {},
     "output_type": "execute_result"
    }
   ],
   "source": [
    "xs = -5.0:0.1:5.0\n",
    "ys = -5.0:0.1:5.0\n",
    "objective = himmelblau # sphere, himmelblau, styblinski_tang, rastrigin\n",
    "fz(x, y) = objective([x, y])\n",
    "println(solution) # optimal for sphere and rastrigin\n",
    "plot_obj()"
   ]
  },
  {
   "cell_type": "code",
   "execution_count": null,
   "metadata": {},
   "outputs": [],
   "source": []
  }
 ],
 "metadata": {
  "@webio": {
   "lastCommId": null,
   "lastKernelId": null
  },
  "kernelspec": {
   "display_name": "Julia 1.4.0",
   "language": "julia",
   "name": "julia-1.4"
  },
  "language_info": {
   "file_extension": ".jl",
   "mimetype": "application/julia",
   "name": "julia",
   "version": "1.4.0"
  }
 },
 "nbformat": 4,
 "nbformat_minor": 2
}
